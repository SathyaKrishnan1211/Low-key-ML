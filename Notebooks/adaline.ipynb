{
 "cells": [
  {
   "cell_type": "code",
   "execution_count": 1,
   "metadata": {},
   "outputs": [],
   "source": [
    "import numpy as np\n",
    "import pandas as pd"
   ]
  },
  {
   "cell_type": "code",
   "execution_count": 7,
   "metadata": {},
   "outputs": [],
   "source": [
    "class AdalineGD:\n",
    "\n",
    "    def __init__(self,lr=0.01,random_state=1,n_iter=50):\n",
    "        self.lr = lr\n",
    "        self.random_state = random_state\n",
    "        self.n_iter = n_iter\n",
    "    \n",
    "    def net_input(self,X):\n",
    "        return np.dot(X,self.w[1:])+self.w[0]\n",
    "    \n",
    "    def activation(self,X):\n",
    "        return X\n",
    "    \n",
    "    def fit(self,X,y):\n",
    "        rgen = np.random.RandomState(self.random_state)\n",
    "        self.w = rgen.normal(loc=0.0, size=X.shape[1]+1,scale=0.01)\n",
    "        self.cost = []\n",
    "        \n",
    "        for _ in range(self.n_iter):\n",
    "            inp = self.net_input(X)\n",
    "            output = self.activation(inp)\n",
    "            errors = y-output\n",
    "            self.w[1:] += self.lr*X.T.dot(errors)\n",
    "            self.w[0] += self.lr*errors.sum()\n",
    "            c = (errors**2).sum()/2\n",
    "            self.cost.append(c)\n",
    "        return self\n",
    "    \n",
    "    def predict(self,X):\n",
    "        inp = self.net_input(X)\n",
    "        output = self.activation(inp)\n",
    "        return np.where(output>0.0,1,-1)"
   ]
  },
  {
   "cell_type": "code",
   "execution_count": 3,
   "metadata": {},
   "outputs": [],
   "source": [
    "df = pd.read_csv('https://archive.ics.uci.edu/ml/machine-learning-databases/iris/iris.data',header=None)"
   ]
  },
  {
   "cell_type": "code",
   "execution_count": 4,
   "metadata": {},
   "outputs": [],
   "source": [
    "X = df.iloc[:100,[0,2]].values\n",
    "y = df.iloc[:100,4].values\n",
    "y = np.where(y=='Iris-setosa',-1,1)"
   ]
  },
  {
   "cell_type": "code",
   "execution_count": 5,
   "metadata": {},
   "outputs": [],
   "source": [
    "import matplotlib.pyplot as plt"
   ]
  },
  {
   "cell_type": "code",
   "execution_count": 9,
   "metadata": {},
   "outputs": [
    {
     "data": {
      "text/plain": [
       "Text(0.5, 1.0, 'LR-0.0001')"
      ]
     },
     "execution_count": 9,
     "metadata": {},
     "output_type": "execute_result"
    },
    {
     "data": {
      "image/png": "[encoded data removed]",
      "text/plain": [
       "<Figure size 720x288 with 2 Axes>"
      ]
     },
     "metadata": {
      "needs_background": "light"
     },
     "output_type": "display_data"
    }
   ],
   "source": [
    "fig,ax = plt.subplots(nrows=1,ncols=2,figsize=(10,4))\n",
    "ada1 = AdalineGD(n_iter=10,lr=0.01).fit(X,y)\n",
    "ax[0].plot(range(1,len(ada1.cost)+1),np.log10(ada1.cost),marker='o')\n",
    "ax[0].set_xlabel('Cost')\n",
    "ax[0].set_ylabel('Sum of squared error')\n",
    "ax[0].set_title('LR-0.01')\n",
    "ada2 = AdalineGD(n_iter=10,lr=0.0001).fit(X,y)\n",
    "ax[1].plot(range(1,len(ada2.cost)+1),np.log10(ada2.cost),marker='o')\n",
    "ax[1].set_xlabel('Cost')\n",
    "ax[1].set_ylabel('Sum of squared error')\n",
    "ax[1].set_title('LR-0.0001')"
   ]
  },
  {
   "cell_type": "code",
   "execution_count": null,
   "metadata": {},
   "outputs": [],
   "source": []
  }
 ],
 "metadata": {
  "interpreter": {
   "hash": "80a5502423a202e903e925bbae66f5e7b32a70a6145b6d0df40c09d22f8809ce"
  },
  "kernelspec": {
   "display_name": "Python 3.9.6 64-bit ('new_environment': conda)",
   "language": "python",
   "name": "python3"
  },
  "language_info": {
   "codemirror_mode": {
    "name": "ipython",
    "version": 3
   },
   "file_extension": ".py",
   "mimetype": "text/x-python",
   "name": "python",
   "nbconvert_exporter": "python",
   "pygments_lexer": "ipython3",
   "version": "3.9.6"
  },
  "orig_nbformat": 4
 },
 "nbformat": 4,
 "nbformat_minor": 2
}
