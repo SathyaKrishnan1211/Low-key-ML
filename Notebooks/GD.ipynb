{
  "nbformat": 4,
  "nbformat_minor": 0,
  "metadata": {
    "colab": {
      "name": "GD.ipynb",
      "provenance": [],
      "collapsed_sections": []
    },
    "kernelspec": {
      "name": "python3",
      "display_name": "Python 3"
    },
    "language_info": {
      "name": "python"
    }
  },
  "cells": [
    {
      "cell_type": "code",
      "execution_count": 1,
      "metadata": {
        "id": "FECHXpzXPRiC"
      },
      "outputs": [],
      "source": [
        "import numpy as np\n",
        "import matplotlib.pyplot as plt"
      ]
    },
    {
      "cell_type": "code",
      "source": [
        "np.random.seed(42)\n",
        "X = 3*np.random.rand(100,1)\n",
        "y = 2 + 5*X + np.random.randn(100,1)"
      ],
      "metadata": {
        "id": "JqzCqiGOgTll"
      },
      "execution_count": 104,
      "outputs": []
    },
    {
      "cell_type": "code",
      "source": [
        "from sklearn.base import BaseEstimator\n",
        "class LinearRegressionGD(BaseEstimator):\n",
        "\n",
        "  \"\"\"\n",
        "    Linear regression using Gradient Descent optimization algorithm\n",
        "  \"\"\"\n",
        "\n",
        "  def __init__(self,lr=0.01,epochs=100,random_state=42):\n",
        "    self.lr = lr\n",
        "    self.epochs = epochs\n",
        "    self.random_state = random_state\n",
        "  \n",
        "  def fit(self,X,y):\n",
        "    np.random.seed(self.random_state)\n",
        "    X_b = np.c_[np.ones((X.shape[0],1)),X]\n",
        "    self.theta = np.random.randn(X_b.shape[1],1)\n",
        "    for _ in range(self.epochs):\n",
        "      output = X_b.dot(self.theta)\n",
        "      gradient = (2/X_b.shape[0])*X_b.T.dot(output-y)\n",
        "      self.theta = self.theta - self.lr*gradient\n",
        "    self.intercept_ = self.theta[0][0]\n",
        "    self.coef_ = np.ravel(self.theta[1:])\n",
        "    return self\n",
        "  \n",
        "  def predict(self,X):\n",
        "    X_b = np.c_[np.ones((X.shape[0],1)),X]\n",
        "    return X_b.dot(self.theta)"
      ],
      "metadata": {
        "id": "AKDZ3py9iRrA"
      },
      "execution_count": 81,
      "outputs": []
    },
    {
      "cell_type": "code",
      "source": [
        "# %%timeit\n",
        "lin_reg = LinearRegressionGD(0.01,50)\n",
        "lin_reg.fit(X,y)\n",
        "lin_reg.intercept_,lin_reg.coef_"
      ],
      "metadata": {
        "colab": {
          "base_uri": "https://localhost:8080/"
        },
        "id": "7ORtGGImiSl8",
        "outputId": "017bf59d-9885-404b-fb84-45239e6116fd"
      },
      "execution_count": 82,
      "outputs": [
        {
          "output_type": "execute_result",
          "data": {
            "text/plain": [
              "(2.785972168202402, array([4.38348452]))"
            ]
          },
          "metadata": {},
          "execution_count": 82
        }
      ]
    },
    {
      "cell_type": "code",
      "source": [
        "from sklearn.base import BaseEstimator\n",
        "class LinearRegressionSGD(BaseEstimator):\n",
        "  \"\"\"\n",
        "    Linear regression using SGD optimization algorithm\n",
        "  \"\"\"\n",
        "  def __init__(self,lr=0.01,epochs=100,random_state=42):\n",
        "    self.lr = lr\n",
        "    self.epochs = epochs\n",
        "    self.random_state = random_state\n",
        "  def fit(self,X,y):\n",
        "    np.random.seed(self.random_state)\n",
        "    X_b = np.c_[np.ones((X.shape[0],1)),X]\n",
        "    self.theta = np.random.randn(X_b.shape[1],1)\n",
        "    for _ in range(self.epochs):\n",
        "      for i in range(len(X_b)):\n",
        "        random_ind = np.random.randint(len(X_b))\n",
        "        X_random = X_b[random_ind:random_ind+1]\n",
        "        y_random = y[random_ind:random_ind+1]\n",
        "        output = X_random.dot(self.theta)\n",
        "        gradient = 2*X_random.T.dot(output-y_random)\n",
        "        self.theta = self.theta - self.lr*gradient\n",
        "    self.intercept_ = self.theta[0][0]\n",
        "    self.coef_ = np.ravel(self.theta[1:])\n",
        "    return self\n",
        "  \n",
        "  def predict(self,X):\n",
        "    X_b = np.c_[np.ones((X.shape[0],1)),X]\n",
        "    return X_b.dot(self.theta)"
      ],
      "metadata": {
        "id": "NDU0qtuEnYPl"
      },
      "execution_count": 83,
      "outputs": []
    },
    {
      "cell_type": "code",
      "source": [
        "# %%timeit\n",
        "lin_reg_sgd = LinearRegressionSGD(0.01,50)\n",
        "lin_reg_sgd.fit(X,y)\n",
        "lin_reg_sgd.intercept_,lin_reg_sgd.coef_"
      ],
      "metadata": {
        "colab": {
          "base_uri": "https://localhost:8080/"
        },
        "id": "BSi2W5v4uhLl",
        "outputId": "0083be97-64f6-4035-a97a-6934f01eef38"
      },
      "execution_count": 84,
      "outputs": [
        {
          "output_type": "execute_result",
          "data": {
            "text/plain": [
              "(2.134341663426798, array([4.68398889]))"
            ]
          },
          "metadata": {},
          "execution_count": 84
        }
      ]
    },
    {
      "cell_type": "code",
      "source": [
        "np.c_[np.ones((len(X),1)),X][71]"
      ],
      "metadata": {
        "colab": {
          "base_uri": "https://localhost:8080/"
        },
        "id": "p0Va82NDt_1A",
        "outputId": "267ed86d-b98b-4581-85f1-11e0b93e1606"
      },
      "execution_count": 59,
      "outputs": [
        {
          "output_type": "execute_result",
          "data": {
            "text/plain": [
              "array([1.        , 0.59614704])"
            ]
          },
          "metadata": {},
          "execution_count": 59
        }
      ]
    },
    {
      "cell_type": "code",
      "source": [
        "from sklearn.base import BaseEstimator\n",
        "class LinearRegressionMBGD(BaseEstimator):\n",
        "  \"\"\"\n",
        "    Linear regression using Mini-Batch GD optimization algorithm\n",
        "  \"\"\"\n",
        "  def __init__(self,lr=0.01,epochs=100,random_state=42,batch_size=32):\n",
        "    self.lr = lr\n",
        "    self.epochs = epochs\n",
        "    self.random_state = random_state\n",
        "    self.batch_size = batch_size\n",
        "  def fit(self,X,y):\n",
        "    np.random.seed(self.random_state)\n",
        "    X_b = np.c_[np.ones((X.shape[0],1)),X]\n",
        "    self.theta = np.random.randn(X_b.shape[1],1)\n",
        "    for _ in range(self.epochs):\n",
        "      for i in range(len(X_b)):\n",
        "        random_ind = np.random.randint(len(X_b)-self.batch_size)\n",
        "        X_random = X_b[random_ind:random_ind+self.batch_size]\n",
        "        y_random = y[random_ind:random_ind+self.batch_size]\n",
        "        output = X_random.dot(self.theta)\n",
        "        gradient = (2/self.batch_size)*X_random.T.dot(output-y_random)\n",
        "        self.theta = self.theta - self.lr*gradient\n",
        "    self.intercept_ = self.theta[0][0]\n",
        "    self.coef_ = np.ravel(self.theta[1:])\n",
        "    return self\n",
        "  def predict(self,X):\n",
        "    X_b = np.c_[np.ones((X.shape[0],1)),X]\n",
        "    return X_b.dot(self.theta)"
      ],
      "metadata": {
        "id": "gBcxkqPiuBSJ"
      },
      "execution_count": 92,
      "outputs": []
    },
    {
      "cell_type": "code",
      "source": [
        "# %%timeit\n",
        "lin_reg_mbgd = LinearRegressionMBGD(lr=0.01,epochs=50,batch_size=16)\n",
        "lin_reg_mbgd.fit(X,y)\n",
        "lin_reg_mbgd.intercept_,lin_reg_mbgd.coef_"
      ],
      "metadata": {
        "colab": {
          "base_uri": "https://localhost:8080/"
        },
        "id": "GLIclIy8waSi",
        "outputId": "a6c48e63-1020-4ffb-d34b-fec97cddf2f4"
      },
      "execution_count": 86,
      "outputs": [
        {
          "output_type": "execute_result",
          "data": {
            "text/plain": [
              "(2.096900871682858, array([4.94549035]))"
            ]
          },
          "metadata": {},
          "execution_count": 86
        }
      ]
    },
    {
      "cell_type": "code",
      "source": [
        "from sklearn.linear_model import LinearRegression\n",
        "lr = LinearRegression()\n",
        "lr.fit(X,y)\n",
        "lr.intercept_,lr.coef_"
      ],
      "metadata": {
        "colab": {
          "base_uri": "https://localhost:8080/"
        },
        "id": "A3zqsHYH7jB6",
        "outputId": "fcb5696d-811a-43cf-b396-ed2889bad166"
      },
      "execution_count": 87,
      "outputs": [
        {
          "output_type": "execute_result",
          "data": {
            "text/plain": [
              "(array([2.21509616]), array([[4.84674226]]))"
            ]
          },
          "metadata": {},
          "execution_count": 87
        }
      ]
    },
    {
      "cell_type": "code",
      "source": [
        "plt.scatter(X,y)\n",
        "plt.plot(X,lin_reg.coef_*X+lin_reg.intercept_,'r-')"
      ],
      "metadata": {
        "colab": {
          "base_uri": "https://localhost:8080/",
          "height": 282
        },
        "id": "KEoDcJGUxKiF",
        "outputId": "71f69716-5893-48a8-adf4-782231a86e6b"
      },
      "execution_count": 88,
      "outputs": [
        {
          "output_type": "execute_result",
          "data": {
            "text/plain": [
              "[<matplotlib.lines.Line2D at 0x7fc4f6a9e590>]"
            ]
          },
          "metadata": {},
          "execution_count": 88
        },
        {
          "output_type": "display_data",
          "data": {
            "image/png": "[encoded data removed]",
            "text/plain": [
              "<Figure size 432x288 with 1 Axes>"
            ]
          },
          "metadata": {
            "needs_background": "light"
          }
        }
      ]
    },
    {
      "cell_type": "code",
      "source": [
        "plt.scatter(X,y)\n",
        "plt.plot(X,lin_reg_sgd.coef_*X+lin_reg_sgd.intercept_,'r-')"
      ],
      "metadata": {
        "colab": {
          "base_uri": "https://localhost:8080/",
          "height": 282
        },
        "id": "vkOusD1vzSb4",
        "outputId": "4ccb3eea-f41f-4cf2-f3b4-64a161ad240a"
      },
      "execution_count": 89,
      "outputs": [
        {
          "output_type": "execute_result",
          "data": {
            "text/plain": [
              "[<matplotlib.lines.Line2D at 0x7fc4f6a1b190>]"
            ]
          },
          "metadata": {},
          "execution_count": 89
        },
        {
          "output_type": "display_data",
          "data": {
            "image/png": "[encoded data removed]",
            "text/plain": [
              "<Figure size 432x288 with 1 Axes>"
            ]
          },
          "metadata": {
            "needs_background": "light"
          }
        }
      ]
    },
    {
      "cell_type": "code",
      "source": [
        "plt.scatter(X,y)\n",
        "plt.plot(X,lin_reg_mbgd.coef_*X+lin_reg_mbgd.intercept_,'r-')"
      ],
      "metadata": {
        "colab": {
          "base_uri": "https://localhost:8080/",
          "height": 282
        },
        "id": "tj5O5y4Yzrot",
        "outputId": "e0806f07-08b0-40ae-f819-5137c8bfc183"
      },
      "execution_count": 90,
      "outputs": [
        {
          "output_type": "execute_result",
          "data": {
            "text/plain": [
              "[<matplotlib.lines.Line2D at 0x7fc4f698bad0>]"
            ]
          },
          "metadata": {},
          "execution_count": 90
        },
        {
          "output_type": "display_data",
          "data": {
            "image/png": "[encoded data removed]",
            "text/plain": [
              "<Figure size 432x288 with 1 Axes>"
            ]
          },
          "metadata": {
            "needs_background": "light"
          }
        }
      ]
    },
    {
      "cell_type": "code",
      "source": [
        "plt.scatter(X,y)\n",
        "plt.plot(X,lr.coef_*X+lr.intercept_,'r-')"
      ],
      "metadata": {
        "colab": {
          "base_uri": "https://localhost:8080/",
          "height": 282
        },
        "id": "S7ktek1mzyE0",
        "outputId": "95475ac5-0d22-4e39-bb19-eec1927db1b8"
      },
      "execution_count": 91,
      "outputs": [
        {
          "output_type": "execute_result",
          "data": {
            "text/plain": [
              "[<matplotlib.lines.Line2D at 0x7fc4f6913110>]"
            ]
          },
          "metadata": {},
          "execution_count": 91
        },
        {
          "output_type": "display_data",
          "data": {
            "image/png": "[encoded data removed]",
            "text/plain": [
              "<Figure size 432x288 with 1 Axes>"
            ]
          },
          "metadata": {
            "needs_background": "light"
          }
        }
      ]
    },
    {
      "cell_type": "code",
      "source": [
        "a = np.arange(-21,12)\n",
        "b = (a+5)**2 + 5\n",
        "plt.plot(a,b)\n",
        "plt.xlabel('w')\n",
        "plt.ylabel('J(w)')\n",
        "plt.xticks([])\n",
        "plt.yticks([]);"
      ],
      "metadata": {
        "colab": {
          "base_uri": "https://localhost:8080/",
          "height": 262
        },
        "id": "mTqM6nJG8d4n",
        "outputId": "4df2b0e0-c80a-42b1-bdd1-ba903189f851"
      },
      "execution_count": 102,
      "outputs": [
        {
          "output_type": "display_data",
          "data": {
            "image/png": "[encoded data removed]",
            "text/plain": [
              "<Figure size 432x288 with 1 Axes>"
            ]
          },
          "metadata": {}
        }
      ]
    },
    {
      "cell_type": "code",
      "source": [
        "import pandas as pd\n",
        "data = [[lin_reg.coef_[0],lin_reg.intercept_],\n",
        "        [lin_reg_sgd.coef_[0],lin_reg_sgd.intercept_],\n",
        "        [lin_reg_mbgd.coef_[0],lin_reg_mbgd.intercept_],\n",
        "        [lr.coef_[0][0],lr.intercept_[0]]]\n",
        "cols = ['coef_','intercept_']\n",
        "ind = ['GD','SGD','MBGD','Scikit-learn LinReg']\n",
        "df = pd.DataFrame(data=data,columns=cols,index=ind)\n",
        "df"
      ],
      "metadata": {
        "colab": {
          "base_uri": "https://localhost:8080/",
          "height": 174
        },
        "id": "jt_SF7Fw9_Fe",
        "outputId": "b6e4387e-782c-428a-d3d8-be88102d0784"
      },
      "execution_count": 113,
      "outputs": [
        {
          "output_type": "execute_result",
          "data": {
            "text/html": [
              "\n",
              "  <div id=\"df-ad3d5535-e56e-41db-a68a-14dd2c82b175\">\n",
              "    <div class=\"colab-df-container\">\n",
              "      <div>\n",
              "<style scoped>\n",
              "    .dataframe tbody tr th:only-of-type {\n",
              "        vertical-align: middle;\n",
              "    }\n",
              "\n",
              "    .dataframe tbody tr th {\n",
              "        vertical-align: top;\n",
              "    }\n",
              "\n",
              "    .dataframe thead th {\n",
              "        text-align: right;\n",
              "    }\n",
              "</style>\n",
              "<table border=\"1\" class=\"dataframe\">\n",
              "  <thead>\n",
              "    <tr style=\"text-align: right;\">\n",
              "      <th></th>\n",
              "      <th>coef_</th>\n",
              "      <th>intercept_</th>\n",
              "    </tr>\n",
              "  </thead>\n",
              "  <tbody>\n",
              "    <tr>\n",
              "      <th>GD</th>\n",
              "      <td>4.383485</td>\n",
              "      <td>2.785972</td>\n",
              "    </tr>\n",
              "    <tr>\n",
              "      <th>SGD</th>\n",
              "      <td>4.683989</td>\n",
              "      <td>2.134342</td>\n",
              "    </tr>\n",
              "    <tr>\n",
              "      <th>MBGD</th>\n",
              "      <td>4.945490</td>\n",
              "      <td>2.096901</td>\n",
              "    </tr>\n",
              "    <tr>\n",
              "      <th>Scikit-learn LinReg</th>\n",
              "      <td>4.846742</td>\n",
              "      <td>2.215096</td>\n",
              "    </tr>\n",
              "  </tbody>\n",
              "</table>\n",
              "</div>\n",
              "      <button class=\"colab-df-convert\" onclick=\"convertToInteractive('df-ad3d5535-e56e-41db-a68a-14dd2c82b175')\"\n",
              "              title=\"Convert this dataframe to an interactive table.\"\n",
              "              style=\"display:none;\">\n",
              "        \n",
              "  <svg xmlns=\"http://www.w3.org/2000/svg\" height=\"24px\"viewBox=\"0 0 24 24\"\n",
              "       width=\"24px\">\n",
              "    <path d=\"M0 0h24v24H0V0z\" fill=\"none\"/>\n",
              "    <path d=\"M18.56 5.44l.94 2.06.94-2.06 2.06-.94-2.06-.94-.94-2.06-.94 2.06-2.06.94zm-11 1L8.5 8.5l.94-2.06 2.06-.94-2.06-.94L8.5 2.5l-.94 2.06-2.06.94zm10 10l.94 2.06.94-2.06 2.06-.94-2.06-.94-.94-2.06-.94 2.06-2.06.94z\"/><path d=\"M17.41 7.96l-1.37-1.37c-.4-.4-.92-.59-1.43-.59-.52 0-1.04.2-1.43.59L10.3 9.45l-7.72 7.72c-.78.78-.78 2.05 0 2.83L4 21.41c.39.39.9.59 1.41.59.51 0 1.02-.2 1.41-.59l7.78-7.78 2.81-2.81c.8-.78.8-2.07 0-2.86zM5.41 20L4 18.59l7.72-7.72 1.47 1.35L5.41 20z\"/>\n",
              "  </svg>\n",
              "      </button>\n",
              "      \n",
              "  <style>\n",
              "    .colab-df-container {\n",
              "      display:flex;\n",
              "      flex-wrap:wrap;\n",
              "      gap: 12px;\n",
              "    }\n",
              "\n",
              "    .colab-df-convert {\n",
              "      background-color: #E8F0FE;\n",
              "      border: none;\n",
              "      border-radius: 50%;\n",
              "      cursor: pointer;\n",
              "      display: none;\n",
              "      fill: #1967D2;\n",
              "      height: 32px;\n",
              "      padding: 0 0 0 0;\n",
              "      width: 32px;\n",
              "    }\n",
              "\n",
              "    .colab-df-convert:hover {\n",
              "      background-color: #E2EBFA;\n",
              "      box-shadow: 0px 1px 2px rgba(60, 64, 67, 0.3), 0px 1px 3px 1px rgba(60, 64, 67, 0.15);\n",
              "      fill: #174EA6;\n",
              "    }\n",
              "\n",
              "    [theme=dark] .colab-df-convert {\n",
              "      background-color: #3B4455;\n",
              "      fill: #D2E3FC;\n",
              "    }\n",
              "\n",
              "    [theme=dark] .colab-df-convert:hover {\n",
              "      background-color: #434B5C;\n",
              "      box-shadow: 0px 1px 3px 1px rgba(0, 0, 0, 0.15);\n",
              "      filter: drop-shadow(0px 1px 2px rgba(0, 0, 0, 0.3));\n",
              "      fill: #FFFFFF;\n",
              "    }\n",
              "  </style>\n",
              "\n",
              "      <script>\n",
              "        const buttonEl =\n",
              "          document.querySelector('#df-ad3d5535-e56e-41db-a68a-14dd2c82b175 button.colab-df-convert');\n",
              "        buttonEl.style.display =\n",
              "          google.colab.kernel.accessAllowed ? 'block' : 'none';\n",
              "\n",
              "        async function convertToInteractive(key) {\n",
              "          const element = document.querySelector('#df-ad3d5535-e56e-41db-a68a-14dd2c82b175');\n",
              "          const dataTable =\n",
              "            await google.colab.kernel.invokeFunction('convertToInteractive',\n",
              "                                                     [key], {});\n",
              "          if (!dataTable) return;\n",
              "\n",
              "          const docLinkHtml = 'Like what you see? Visit the ' +\n",
              "            '<a target=\"_blank\" href=https://colab.research.google.com/notebooks/data_table.ipynb>data table notebook</a>'\n",
              "            + ' to learn more about interactive tables.';\n",
              "          element.innerHTML = '';\n",
              "          dataTable['output_type'] = 'display_data';\n",
              "          await google.colab.output.renderOutput(dataTable, element);\n",
              "          const docLink = document.createElement('div');\n",
              "          docLink.innerHTML = docLinkHtml;\n",
              "          element.appendChild(docLink);\n",
              "        }\n",
              "      </script>\n",
              "    </div>\n",
              "  </div>\n",
              "  "
            ],
            "text/plain": [
              "                        coef_  intercept_\n",
              "GD                   4.383485    2.785972\n",
              "SGD                  4.683989    2.134342\n",
              "MBGD                 4.945490    2.096901\n",
              "Scikit-learn LinReg  4.846742    2.215096"
            ]
          },
          "metadata": {},
          "execution_count": 113
        }
      ]
    },
    {
      "cell_type": "code",
      "source": [
        "lr.coef_[0][0],lr.intercept_[0]"
      ],
      "metadata": {
        "colab": {
          "base_uri": "https://localhost:8080/"
        },
        "id": "7M6q3dwuOY2T",
        "outputId": "2b154243-fa8c-487d-ddd9-0ecf6e6b93f9"
      },
      "execution_count": 112,
      "outputs": [
        {
          "output_type": "execute_result",
          "data": {
            "text/plain": [
              "(4.846742257625657, 2.215096157546747)"
            ]
          },
          "metadata": {},
          "execution_count": 112
        }
      ]
    },
    {
      "cell_type": "code",
      "source": [
        "fig,ax = plt.subplots(nrows=2,ncols=2,figsize=(12,8))\n",
        "ax[0][0].scatter(X,y)\n",
        "ax[0][0].plot(X,lin_reg.coef_*X+lin_reg.intercept_,'r-')\n",
        "ax[0][0].set_title('Gradient Descent')\n",
        "\n",
        "ax[0][1].scatter(X,y)\n",
        "ax[0][1].plot(X,lin_reg_sgd.coef_*X+lin_reg_sgd.intercept_,'r-')\n",
        "ax[0][1].set_title('Stochastic Gradient Descent')\n",
        "\n",
        "ax[1][0].scatter(X,y)\n",
        "ax[1][0].plot(X,lin_reg_mbgd.coef_*X+lin_reg_mbgd.intercept_,'r-')\n",
        "ax[1][0].set_title('Mini-Batch Gradient Descent')\n",
        "\n",
        "ax[1][1].scatter(X,y)\n",
        "ax[1][1].plot(X,lr.coef_[0][0]*X+lr.intercept_[0],'r-')\n",
        "ax[1][1].set_title('Scikit-Learn Linear Regression');"
      ],
      "metadata": {
        "colab": {
          "base_uri": "https://localhost:8080/",
          "height": 499
        },
        "id": "SLMhAOnGOuyX",
        "outputId": "3ab80253-7378-4792-b42f-cfb650504f2c"
      },
      "execution_count": 116,
      "outputs": [
        {
          "output_type": "display_data",
          "data": {
            "image/png": "[encoded data removed]",
            "text/plain": [
              "<Figure size 864x576 with 4 Axes>"
            ]
          },
          "metadata": {
            "needs_background": "light"
          }
        }
      ]
    },
    {
      "cell_type": "code",
      "source": [
        ""
      ],
      "metadata": {
        "id": "mEB8vDpBRZF4"
      },
      "execution_count": null,
      "outputs": []
    }
  ]
}